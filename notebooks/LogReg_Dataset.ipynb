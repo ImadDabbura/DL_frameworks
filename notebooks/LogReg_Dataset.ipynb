{
 "cells": [
  {
   "cell_type": "code",
   "execution_count": 1,
   "metadata": {},
   "outputs": [
    {
     "name": "stderr",
     "output_type": "stream",
     "text": [
      "C:\\Users\\e739218\\AppData\\Local\\Continuum\\anaconda3\\lib\\site-packages\\h5py\\__init__.py:34: FutureWarning: Conversion of the second argument of issubdtype from `float` to `np.floating` is deprecated. In future, it will be treated as `np.float64 == np.dtype(float).type`.\n",
      "  from ._conv import register_converters as _register_converters\n",
      "Using TensorFlow backend.\n"
     ]
    }
   ],
   "source": [
    "import time\n",
    "\n",
    "from keras.datasets import mnist\n",
    "from keras.utils import to_categorical\n",
    "import matplotlib.pyplot as plt\n",
    "import numpy as np\n",
    "import pandas as pd\n",
    "import seaborn as sns\n",
    "import tensorflow as tf\n",
    "\n",
    "%matplotlib inline\n",
    "plt.style.use(\"fivethirtyeight\")\n",
    "sns.set_context(\"notebook\")"
   ]
  },
  {
   "cell_type": "code",
   "execution_count": 2,
   "metadata": {},
   "outputs": [
    {
     "data": {
      "text/plain": [
       "((60000, 28, 28), (60000,), (10000, 28, 28), (10000,))"
      ]
     },
     "execution_count": 2,
     "metadata": {},
     "output_type": "execute_result"
    }
   ],
   "source": [
    "# Get the data\n",
    "(X_train, y_train), (X_test, y_test) = mnist.load_data()\n",
    "X_train.shape, y_train.shape, X_test.shape, y_test.shape"
   ]
  },
  {
   "cell_type": "code",
   "execution_count": 3,
   "metadata": {},
   "outputs": [
    {
     "data": {
      "text/plain": [
       "((60000, 784), (60000, 10), (10000, 784), (10000, 10))"
      ]
     },
     "execution_count": 3,
     "metadata": {},
     "output_type": "execute_result"
    }
   ],
   "source": [
    "# Preprocess the data\n",
    "X_train = np.reshape(X_train, (-1, 28 * 28)).astype(\"float32\")\n",
    "X_test = np.reshape(X_test, (-1, 28 * 28)).astype(\"float32\")\n",
    "\n",
    "y_train = to_categorical(y_train, 10)\n",
    "y_test = to_categorical(y_test, 10)\n",
    "\n",
    "X_train.shape, y_train.shape, X_test.shape, y_test.shape"
   ]
  },
  {
   "cell_type": "code",
   "execution_count": 4,
   "metadata": {},
   "outputs": [
    {
     "name": "stdout",
     "output_type": "stream",
     "text": [
      "WARNING:tensorflow:From <ipython-input-4-8d0fc7b323dd>:30: softmax_cross_entropy_with_logits (from tensorflow.python.ops.nn_ops) is deprecated and will be removed in a future version.\n",
      "Instructions for updating:\n",
      "\n",
      "Future major versions of TensorFlow will allow gradients to flow\n",
      "into the labels input on backprop by default.\n",
      "\n",
      "See tf.nn.softmax_cross_entropy_with_logits_v2.\n",
      "\n",
      "Test accuracy: 86.30%\n"
     ]
    }
   ],
   "source": [
    "# Define some hyperparameters\n",
    "batch_size = 128\n",
    "n_train = X_train.shape[0]\n",
    "n_test = X_test.shape[0]\n",
    "learning_rate = 0.001\n",
    "epochs = 30\n",
    "\n",
    "\n",
    "g = tf.Graph()\n",
    "\n",
    "with g.as_default():\n",
    "    train_data = tf.data.Dataset.from_tensor_slices((X_train, y_train))\n",
    "    train_data = train_data.batch(batch_size)\n",
    "    test_data = tf.data.Dataset.from_tensor_slices((X_test, y_test))\n",
    "    test_data = test_data.batch(batch_size)\n",
    "    iterator = tf.data.Iterator.from_structure(train_data.output_types,\n",
    "                                               train_data.output_shapes)\n",
    "    img, label = iterator.get_next()\n",
    "\n",
    "    train_init = iterator.make_initializer(train_data)\n",
    "    test_init = iterator.make_initializer(test_data)\n",
    "\n",
    "    W = tf.get_variable(\n",
    "        name=\"weight\", initializer=tf.zeros([784, 10], tf.float32))\n",
    "    b = tf.get_variable(name=\"bias\", initializer=tf.zeros([1, 10], tf.float32))\n",
    "\n",
    "    logits = tf.add(tf.matmul(img, W), b, name=\"logits\")\n",
    "\n",
    "    loss = tf.reduce_mean(\n",
    "        tf.nn.softmax_cross_entropy_with_logits(logits=logits, labels=label, name=\"entropy\"), name=\"loss\")\n",
    "\n",
    "    optimizer = tf.train.AdamOptimizer().minimize(loss)\n",
    "\n",
    "    y_pred = tf.nn.softmax(logits, name=\"predictions\")\n",
    "    correct_pred = tf.equal(tf.argmax(label, axis=1),\n",
    "                            tf.argmax(y_pred, axis=1), name=\"correct_predictions\")\n",
    "    accuracy = tf.reduce_mean(tf.cast(correct_pred, tf.float32), name=\"accuracy\")\n",
    "\n",
    "    init = tf.global_variables_initializer()\n",
    "    \n",
    "    tf.summary.FileWriter(\"logdir/\", graph=g)\n",
    "    \n",
    "with tf.Session(graph=g) as sess:\n",
    "    sess.run(init)\n",
    "    costs = []\n",
    "    \n",
    "    for epoch in range(epochs):\n",
    "        sess.run([train_init])\n",
    "        try:\n",
    "            while True:\n",
    "                sess.run([optimizer, loss])\n",
    "        except tf.errors.OutOfRangeError:\n",
    "            pass\n",
    "\n",
    "    test_accuracy = 0   \n",
    "    sess.run(test_init)\n",
    "    try:\n",
    "        while True:\n",
    "            batch_accuracy = sess.run(accuracy)\n",
    "            test_accuracy += batch_accuracy\n",
    "    \n",
    "    except tf.errors.OutOfRangeError:\n",
    "        pass\n",
    "    test_accuracy /= ((n_test // batch_size) + 1)\n",
    "    \n",
    "print(f\"Test accuracy: {test_accuracy * 100:.2f}%\")"
   ]
  }
 ],
 "metadata": {
  "kernelspec": {
   "display_name": "Python 3",
   "language": "python",
   "name": "python3"
  },
  "language_info": {
   "codemirror_mode": {
    "name": "ipython",
    "version": 3
   },
   "file_extension": ".py",
   "mimetype": "text/x-python",
   "name": "python",
   "nbconvert_exporter": "python",
   "pygments_lexer": "ipython3",
   "version": "3.6.4"
  }
 },
 "nbformat": 4,
 "nbformat_minor": 2
}
