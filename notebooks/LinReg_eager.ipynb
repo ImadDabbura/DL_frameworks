{
 "cells": [
  {
   "cell_type": "code",
   "execution_count": 1,
   "metadata": {},
   "outputs": [
    {
     "name": "stderr",
     "output_type": "stream",
     "text": [
      "C:\\Users\\e739218\\AppData\\Local\\Continuum\\anaconda3\\lib\\site-packages\\h5py\\__init__.py:34: FutureWarning: Conversion of the second argument of issubdtype from `float` to `np.floating` is deprecated. In future, it will be treated as `np.float64 == np.dtype(float).type`.\n",
      "  from ._conv import register_converters as _register_converters\n"
     ]
    }
   ],
   "source": [
    "import time\n",
    "\n",
    "import matplotlib.pyplot as plt\n",
    "import numpy as np\n",
    "import pandas as pd\n",
    "import seaborn as sns\n",
    "import tensorflow as tf\n",
    "import tensorflow.contrib.eager as tfe\n",
    "\n",
    "%matplotlib inline\n",
    "plt.style.use(\"fivethirtyeight\")\n",
    "sns.set_context(\"notebook\")"
   ]
  },
  {
   "cell_type": "code",
   "execution_count": 2,
   "metadata": {},
   "outputs": [],
   "source": [
    "tfe.enable_eager_execution()"
   ]
  },
  {
   "cell_type": "code",
   "execution_count": 3,
   "metadata": {},
   "outputs": [
    {
     "data": {
      "text/html": [
       "<div>\n",
       "<style>\n",
       "    .dataframe thead tr:only-child th {\n",
       "        text-align: right;\n",
       "    }\n",
       "\n",
       "    .dataframe thead th {\n",
       "        text-align: left;\n",
       "    }\n",
       "\n",
       "    .dataframe tbody tr th {\n",
       "        vertical-align: top;\n",
       "    }\n",
       "</style>\n",
       "<table border=\"1\" class=\"dataframe\">\n",
       "  <thead>\n",
       "    <tr style=\"text-align: right;\">\n",
       "      <th></th>\n",
       "      <th>birth_rate</th>\n",
       "      <th>life_expectancy</th>\n",
       "    </tr>\n",
       "  </thead>\n",
       "  <tbody>\n",
       "    <tr>\n",
       "      <th>Afghanistan</th>\n",
       "      <td>6.288</td>\n",
       "      <td>48.282195</td>\n",
       "    </tr>\n",
       "    <tr>\n",
       "      <th>Albania</th>\n",
       "      <td>1.536</td>\n",
       "      <td>76.900951</td>\n",
       "    </tr>\n",
       "    <tr>\n",
       "      <th>Algeria</th>\n",
       "      <td>2.264</td>\n",
       "      <td>72.852537</td>\n",
       "    </tr>\n",
       "    <tr>\n",
       "      <th>Angola</th>\n",
       "      <td>5.443</td>\n",
       "      <td>50.653659</td>\n",
       "    </tr>\n",
       "    <tr>\n",
       "      <th>Argentina</th>\n",
       "      <td>2.211</td>\n",
       "      <td>75.632146</td>\n",
       "    </tr>\n",
       "  </tbody>\n",
       "</table>\n",
       "</div>"
      ],
      "text/plain": [
       "             birth_rate  life_expectancy\n",
       "Afghanistan       6.288        48.282195\n",
       "Albania           1.536        76.900951\n",
       "Algeria           2.264        72.852537\n",
       "Angola            5.443        50.653659\n",
       "Argentina         2.211        75.632146"
      ]
     },
     "execution_count": 3,
     "metadata": {},
     "output_type": "execute_result"
    }
   ],
   "source": [
    "data = {}\n",
    "with open(\"../examples/data/birth_life_2010.txt\", \"r\") as file:\n",
    "    for line in file.readlines()[1:]:\n",
    "        temp = line.split(\"\\t\")\n",
    "        data[temp[0]] = (float(temp[1]), float(temp[2][:-1]))\n",
    "        \n",
    "data = pd.DataFrame(data).transpose()\n",
    "data.columns = [\"birth_rate\", \"life_expectancy\"]\n",
    "data.head()"
   ]
  },
  {
   "cell_type": "code",
   "execution_count": 4,
   "metadata": {},
   "outputs": [
    {
     "data": {
      "text/plain": [
       "((190,), (190,))"
      ]
     },
     "execution_count": 4,
     "metadata": {},
     "output_type": "execute_result"
    }
   ],
   "source": [
    "# Convert dataframe into features and targets nd-arrays\n",
    "X_input = data[\"birth_rate\"].values\n",
    "target = data[\"life_expectancy\"].values\n",
    "\n",
    "# Shuffle the data\n",
    "np.random.seed(123)\n",
    "perms = np.random.permutation(X_input.shape[0])\n",
    "X_input = X_input[perms]\n",
    "target = target[perms]\n",
    "\n",
    "X_input.shape, target.shape"
   ]
  },
  {
   "cell_type": "code",
   "execution_count": 5,
   "metadata": {},
   "outputs": [],
   "source": [
    "def prediction(x):\n",
    "    return w * x + b\n",
    "\n",
    "# Define loss functions\n",
    "def huber_loss(y, y_pred, delta=1.0):\n",
    "    residuals = tf.abs(y - y_pred)\n",
    "    if tf.square(residuals) <= delta:\n",
    "        return 0.5 * tf.square(residuals)\n",
    "    return delta * (residuals - 0.5 * delta)\n",
    "\n",
    "\n",
    "def squared_loss(y, y_pred):\n",
    "    return (y - y_pred) ** 2\n",
    "\n",
    "# Define Dataset object\n",
    "dataset = tf.data.Dataset.from_tensor_slices((X_input, target))\n",
    "\n",
    "# Define parameters\n",
    "w = tfe.Variable(0, dtype=tf.float64, name=\"weight\")\n",
    "b = tfe.Variable(0, dtype=tf.float64, name=\"bias\")\n",
    "\n",
    "# Build model\n",
    "def train(loss_fn):\n",
    "    # Define optimizer\n",
    "    optimizer = tf.train.GradientDescentOptimizer(learning_rate=0.01)\n",
    "    \n",
    "    # Define loss for each example\n",
    "    def loss_for_example(x, y):\n",
    "        y_pred = prediction(x)\n",
    "        return loss_fn(y, y_pred)\n",
    "    \n",
    "    # Define gradient fn to be used when applying optimizer\n",
    "    grad_fn = tfe.implicit_value_and_gradients(loss_for_example)\n",
    "    \n",
    "    costs = []\n",
    "    for epoch in range(200):\n",
    "        cost_epoch = 0\n",
    "        iterator = tfe.Iterator(dataset)\n",
    "        for x_i, y_i in iterator:\n",
    "            loss, gradients = grad_fn(x_i, y_i)\n",
    "            optimizer.apply_gradients(gradients)\n",
    "            cost_epoch += loss\n",
    "        \n",
    "        costs.append(cost_epoch)\n",
    "    \n",
    "    return costs\n",
    "\n",
    "cost = train(squared_loss)"
   ]
  },
  {
   "cell_type": "code",
   "execution_count": 6,
   "metadata": {},
   "outputs": [
    {
     "data": {
      "text/plain": [
       "(<tf.Variable 'weight:0' shape=() dtype=float64, numpy=-5.363653241996434>,\n",
       " <tf.Variable 'bias:0' shape=() dtype=float64, numpy=86.06626790267111>)"
      ]
     },
     "execution_count": 6,
     "metadata": {},
     "output_type": "execute_result"
    }
   ],
   "source": [
    "w, b"
   ]
  }
 ],
 "metadata": {
  "kernelspec": {
   "display_name": "Python 3",
   "language": "python",
   "name": "python3"
  },
  "language_info": {
   "codemirror_mode": {
    "name": "ipython",
    "version": 3
   },
   "file_extension": ".py",
   "mimetype": "text/x-python",
   "name": "python",
   "nbconvert_exporter": "python",
   "pygments_lexer": "ipython3",
   "version": "3.6.4"
  }
 },
 "nbformat": 4,
 "nbformat_minor": 2
}
